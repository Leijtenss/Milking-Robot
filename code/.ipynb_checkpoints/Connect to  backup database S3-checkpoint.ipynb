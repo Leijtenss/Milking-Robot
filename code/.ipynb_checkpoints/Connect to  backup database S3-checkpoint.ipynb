{
 "cells": [
  {
   "cell_type": "code",
   "execution_count": 6,
   "metadata": {},
   "outputs": [],
   "source": [
    "## Import of packages\n",
    "import pandas as pd\n",
    "import pyodbc\n",
    "import sqlalchemy\n",
    "import urllib\n",
    "import os"
   ]
  },
  {
   "cell_type": "code",
   "execution_count": 18,
   "metadata": {},
   "outputs": [],
   "source": [
    "os.chdir(\"..\")\n",
    "os.chdir(\"..\")"
   ]
  },
  {
   "cell_type": "code",
   "execution_count": null,
   "metadata": {},
   "outputs": [],
   "source": [
    "# Connect to SQL Database running in AWS RDS\n",
    "%run creds.py\n",
    "\n",
    "params = 'DRIVER=' + creds['driver'] + ';' \\\n",
    "         'SERVER=' + creds['server'] + ';' \\\n",
    "         'DATABASE=' + creds['database'] + ';' \\\n",
    "         'UID=' + creds['user'] + ';' \\\n",
    "         'PWD=' + creds['passwd'] + ';' \\\n",
    "         'PORT=' + str(creds['port']) + ';'\n",
    "            \n",
    "params = urllib.parse.quote_plus(params)\n",
    "\n",
    "from sqlalchemy import create_engine\n",
    "\n",
    "db = create_engine('mssql+pyodbc:///?odbc_connect=%s' % params, connect_args={'connect_timeout': 360})"
   ]
  },
  {
   "cell_type": "code",
   "execution_count": null,
   "metadata": {},
   "outputs": [],
   "source": [
    "sql_ad = '''\n",
    "SELECT *\n",
    "FROM dbo.AnimalDaily;\n",
    "'''\n",
    "\n",
    "df_ad = pd.read_sql_query(sql_ad, db)\n",
    "df_ad.head(5)"
   ]
  }
 ],
 "metadata": {
  "kernelspec": {
   "display_name": "Python 3",
   "language": "python",
   "name": "python3"
  },
  "language_info": {
   "codemirror_mode": {
    "name": "ipython",
    "version": 3
   },
   "file_extension": ".py",
   "mimetype": "text/x-python",
   "name": "python",
   "nbconvert_exporter": "python",
   "pygments_lexer": "ipython3",
   "version": "3.6.8"
  }
 },
 "nbformat": 4,
 "nbformat_minor": 2
}

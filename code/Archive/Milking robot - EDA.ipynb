{
 "cells": [
  {
   "cell_type": "markdown",
   "metadata": {},
   "source": [
    "# Intro\n",
    "## With description of dataset, how set up etc\n",
    "Start with describing thought process etc"
   ]
  },
  {
   "cell_type": "markdown",
   "metadata": {},
   "source": [
    "### Necessary import of packages and establishing connection with SQL-database"
   ]
  },
  {
   "cell_type": "code",
   "execution_count": 1,
   "metadata": {},
   "outputs": [],
   "source": [
    "# Standard import packages/modules\n",
    "import pandas as pd\n",
    "import os\n",
    "import matplotlib.pyplot as plt\n",
    "import seaborn as sns\n",
    "import numpy as np\n",
    "import glob\n",
    "import datetime as dt\n",
    "\n",
    "import pyodbc\n",
    "import sqlalchemy"
   ]
  },
  {
   "cell_type": "code",
   "execution_count": 2,
   "metadata": {},
   "outputs": [],
   "source": [
    "import urllib\n",
    "\n",
    "params = 'DRIVER={ODBC Driver 17 for SQL Server};' \\\n",
    "         'SERVER=localhost,1401;' \\\n",
    "         'PORT=1433;' \\\n",
    "         'DATABASE=DDMVMS;' \\\n",
    "         'UID=sa;' \\\n",
    "         'PWD=YourStrong!Passw0rd;'\n",
    "            \n",
    "params = urllib.parse.quote_plus(params)\n",
    "\n",
    "from sqlalchemy import create_engine\n",
    "\n",
    "db = create_engine('mssql+pyodbc:///?odbc_connect=%s' % params)"
   ]
  },
  {
   "cell_type": "markdown",
   "metadata": {},
   "source": [
    "## Start with the first table\n",
    "Looks like AnimalDaily is a good table to start with, let's import it into dataframe as df_ad"
   ]
  },
  {
   "cell_type": "code",
   "execution_count": 28,
   "metadata": {
    "scrolled": true
   },
   "outputs": [
    {
     "data": {
      "text/html": [
       "<div>\n",
       "<style scoped>\n",
       "    .dataframe tbody tr th:only-of-type {\n",
       "        vertical-align: middle;\n",
       "    }\n",
       "\n",
       "    .dataframe tbody tr th {\n",
       "        vertical-align: top;\n",
       "    }\n",
       "\n",
       "    .dataframe thead th {\n",
       "        text-align: right;\n",
       "    }\n",
       "</style>\n",
       "<table border=\"1\" class=\"dataframe\">\n",
       "  <thead>\n",
       "    <tr style=\"text-align: right;\">\n",
       "      <th></th>\n",
       "      <th>OID</th>\n",
       "      <th>Date</th>\n",
       "      <th>BasicAnimal</th>\n",
       "      <th>AnimalGroup</th>\n",
       "      <th>DIM</th>\n",
       "      <th>DSLC</th>\n",
       "      <th>LactationNumber</th>\n",
       "      <th>TotalYield</th>\n",
       "      <th>IsYieldValid</th>\n",
       "      <th>Duration</th>\n",
       "      <th>AvgYieldPrev7d</th>\n",
       "      <th>GCRecord</th>\n",
       "      <th>SystemEntryTimeStamp</th>\n",
       "    </tr>\n",
       "  </thead>\n",
       "  <tbody>\n",
       "    <tr>\n",
       "      <th>0</th>\n",
       "      <td>4</td>\n",
       "      <td>2016-12-29</td>\n",
       "      <td>221</td>\n",
       "      <td>3.0</td>\n",
       "      <td>310.0</td>\n",
       "      <td>310.0</td>\n",
       "      <td>1</td>\n",
       "      <td>22.670000</td>\n",
       "      <td>True</td>\n",
       "      <td>722.0</td>\n",
       "      <td>22.318571</td>\n",
       "      <td>None</td>\n",
       "      <td>NaT</td>\n",
       "    </tr>\n",
       "    <tr>\n",
       "      <th>1</th>\n",
       "      <td>25</td>\n",
       "      <td>2017-03-28</td>\n",
       "      <td>131</td>\n",
       "      <td>3.0</td>\n",
       "      <td>373.0</td>\n",
       "      <td>373.0</td>\n",
       "      <td>4</td>\n",
       "      <td>22.000000</td>\n",
       "      <td>True</td>\n",
       "      <td>797.0</td>\n",
       "      <td>19.425714</td>\n",
       "      <td>None</td>\n",
       "      <td>NaT</td>\n",
       "    </tr>\n",
       "    <tr>\n",
       "      <th>2</th>\n",
       "      <td>81</td>\n",
       "      <td>2017-01-23</td>\n",
       "      <td>237</td>\n",
       "      <td>3.0</td>\n",
       "      <td>144.0</td>\n",
       "      <td>144.0</td>\n",
       "      <td>1</td>\n",
       "      <td>16.910000</td>\n",
       "      <td>True</td>\n",
       "      <td>888.0</td>\n",
       "      <td>22.732857</td>\n",
       "      <td>None</td>\n",
       "      <td>NaT</td>\n",
       "    </tr>\n",
       "    <tr>\n",
       "      <th>3</th>\n",
       "      <td>93</td>\n",
       "      <td>2016-12-14</td>\n",
       "      <td>173</td>\n",
       "      <td>3.0</td>\n",
       "      <td>149.0</td>\n",
       "      <td>149.0</td>\n",
       "      <td>3</td>\n",
       "      <td>26.670000</td>\n",
       "      <td>True</td>\n",
       "      <td>919.0</td>\n",
       "      <td>34.272858</td>\n",
       "      <td>None</td>\n",
       "      <td>NaT</td>\n",
       "    </tr>\n",
       "    <tr>\n",
       "      <th>4</th>\n",
       "      <td>107</td>\n",
       "      <td>2017-02-09</td>\n",
       "      <td>232</td>\n",
       "      <td>3.0</td>\n",
       "      <td>219.0</td>\n",
       "      <td>219.0</td>\n",
       "      <td>1</td>\n",
       "      <td>20.459999</td>\n",
       "      <td>True</td>\n",
       "      <td>1619.0</td>\n",
       "      <td>22.738571</td>\n",
       "      <td>None</td>\n",
       "      <td>NaT</td>\n",
       "    </tr>\n",
       "  </tbody>\n",
       "</table>\n",
       "</div>"
      ],
      "text/plain": [
       "   OID        Date  BasicAnimal  AnimalGroup    DIM   DSLC  LactationNumber  \\\n",
       "0    4  2016-12-29          221          3.0  310.0  310.0                1   \n",
       "1   25  2017-03-28          131          3.0  373.0  373.0                4   \n",
       "2   81  2017-01-23          237          3.0  144.0  144.0                1   \n",
       "3   93  2016-12-14          173          3.0  149.0  149.0                3   \n",
       "4  107  2017-02-09          232          3.0  219.0  219.0                1   \n",
       "\n",
       "   TotalYield  IsYieldValid  Duration  AvgYieldPrev7d GCRecord  \\\n",
       "0   22.670000          True     722.0       22.318571     None   \n",
       "1   22.000000          True     797.0       19.425714     None   \n",
       "2   16.910000          True     888.0       22.732857     None   \n",
       "3   26.670000          True     919.0       34.272858     None   \n",
       "4   20.459999          True    1619.0       22.738571     None   \n",
       "\n",
       "  SystemEntryTimeStamp  \n",
       "0                  NaT  \n",
       "1                  NaT  \n",
       "2                  NaT  \n",
       "3                  NaT  \n",
       "4                  NaT  "
      ]
     },
     "execution_count": 28,
     "metadata": {},
     "output_type": "execute_result"
    }
   ],
   "source": [
    "sql_ad = '''\n",
    "SELECT *\n",
    "FROM dbo.AnimalDaily;\n",
    "'''\n",
    "\n",
    "df_ad = pd.read_sql_query(sql_ad, db)\n",
    "df_ad.head(5)"
   ]
  },
  {
   "cell_type": "code",
   "execution_count": 29,
   "metadata": {},
   "outputs": [
    {
     "name": "stdout",
     "output_type": "stream",
     "text": [
      "<class 'pandas.core.frame.DataFrame'>\n",
      "RangeIndex: 33182 entries, 0 to 33181\n",
      "Data columns (total 13 columns):\n",
      "OID                     33182 non-null int64\n",
      "Date                    33182 non-null object\n",
      "BasicAnimal             33182 non-null int64\n",
      "AnimalGroup             33148 non-null float64\n",
      "DIM                     33180 non-null float64\n",
      "DSLC                    33180 non-null float64\n",
      "LactationNumber         33182 non-null int64\n",
      "TotalYield              32683 non-null float64\n",
      "IsYieldValid            33182 non-null bool\n",
      "Duration                32683 non-null float64\n",
      "AvgYieldPrev7d          32159 non-null float64\n",
      "GCRecord                0 non-null object\n",
      "SystemEntryTimeStamp    4975 non-null datetime64[ns]\n",
      "dtypes: bool(1), datetime64[ns](1), float64(6), int64(3), object(2)\n",
      "memory usage: 3.1+ MB\n"
     ]
    },
    {
     "data": {
      "text/html": [
       "<div>\n",
       "<style scoped>\n",
       "    .dataframe tbody tr th:only-of-type {\n",
       "        vertical-align: middle;\n",
       "    }\n",
       "\n",
       "    .dataframe tbody tr th {\n",
       "        vertical-align: top;\n",
       "    }\n",
       "\n",
       "    .dataframe thead th {\n",
       "        text-align: right;\n",
       "    }\n",
       "</style>\n",
       "<table border=\"1\" class=\"dataframe\">\n",
       "  <thead>\n",
       "    <tr style=\"text-align: right;\">\n",
       "      <th></th>\n",
       "      <th>OID</th>\n",
       "      <th>BasicAnimal</th>\n",
       "      <th>AnimalGroup</th>\n",
       "      <th>DIM</th>\n",
       "      <th>DSLC</th>\n",
       "      <th>LactationNumber</th>\n",
       "      <th>TotalYield</th>\n",
       "      <th>Duration</th>\n",
       "      <th>AvgYieldPrev7d</th>\n",
       "    </tr>\n",
       "  </thead>\n",
       "  <tbody>\n",
       "    <tr>\n",
       "      <th>count</th>\n",
       "      <td>33182.000000</td>\n",
       "      <td>33182.000000</td>\n",
       "      <td>33148.000000</td>\n",
       "      <td>33180.000000</td>\n",
       "      <td>33180.000000</td>\n",
       "      <td>33182.000000</td>\n",
       "      <td>32683.000000</td>\n",
       "      <td>32683.000000</td>\n",
       "      <td>32159.000000</td>\n",
       "    </tr>\n",
       "    <tr>\n",
       "      <th>mean</th>\n",
       "      <td>167693.555663</td>\n",
       "      <td>509.799409</td>\n",
       "      <td>3.100247</td>\n",
       "      <td>177.182278</td>\n",
       "      <td>177.185473</td>\n",
       "      <td>2.164577</td>\n",
       "      <td>29.561726</td>\n",
       "      <td>1069.272833</td>\n",
       "      <td>29.966063</td>\n",
       "    </tr>\n",
       "    <tr>\n",
       "      <th>std</th>\n",
       "      <td>63192.508714</td>\n",
       "      <td>728.093452</td>\n",
       "      <td>0.680902</td>\n",
       "      <td>118.119973</td>\n",
       "      <td>118.124011</td>\n",
       "      <td>1.349172</td>\n",
       "      <td>11.013999</td>\n",
       "      <td>470.079576</td>\n",
       "      <td>9.202937</td>\n",
       "    </tr>\n",
       "    <tr>\n",
       "      <th>min</th>\n",
       "      <td>4.000000</td>\n",
       "      <td>26.000000</td>\n",
       "      <td>3.000000</td>\n",
       "      <td>0.000000</td>\n",
       "      <td>0.000000</td>\n",
       "      <td>0.000000</td>\n",
       "      <td>0.000000</td>\n",
       "      <td>0.000000</td>\n",
       "      <td>2.340000</td>\n",
       "    </tr>\n",
       "    <tr>\n",
       "      <th>25%</th>\n",
       "      <td>139916.750000</td>\n",
       "      <td>182.000000</td>\n",
       "      <td>3.000000</td>\n",
       "      <td>81.000000</td>\n",
       "      <td>81.000000</td>\n",
       "      <td>1.000000</td>\n",
       "      <td>21.930000</td>\n",
       "      <td>748.000000</td>\n",
       "      <td>22.885715</td>\n",
       "    </tr>\n",
       "    <tr>\n",
       "      <th>50%</th>\n",
       "      <td>188441.500000</td>\n",
       "      <td>224.000000</td>\n",
       "      <td>3.000000</td>\n",
       "      <td>167.000000</td>\n",
       "      <td>167.000000</td>\n",
       "      <td>2.000000</td>\n",
       "      <td>29.009998</td>\n",
       "      <td>1004.000000</td>\n",
       "      <td>29.534286</td>\n",
       "    </tr>\n",
       "    <tr>\n",
       "      <th>75%</th>\n",
       "      <td>214631.750000</td>\n",
       "      <td>245.000000</td>\n",
       "      <td>3.000000</td>\n",
       "      <td>257.000000</td>\n",
       "      <td>257.000000</td>\n",
       "      <td>3.000000</td>\n",
       "      <td>36.660000</td>\n",
       "      <td>1324.000000</td>\n",
       "      <td>35.997143</td>\n",
       "    </tr>\n",
       "    <tr>\n",
       "      <th>max</th>\n",
       "      <td>232894.000000</td>\n",
       "      <td>2277.000000</td>\n",
       "      <td>10.000000</td>\n",
       "      <td>1107.000000</td>\n",
       "      <td>1107.000000</td>\n",
       "      <td>7.000000</td>\n",
       "      <td>78.070000</td>\n",
       "      <td>4271.000000</td>\n",
       "      <td>60.987141</td>\n",
       "    </tr>\n",
       "  </tbody>\n",
       "</table>\n",
       "</div>"
      ],
      "text/plain": [
       "                 OID   BasicAnimal   AnimalGroup           DIM          DSLC  \\\n",
       "count   33182.000000  33182.000000  33148.000000  33180.000000  33180.000000   \n",
       "mean   167693.555663    509.799409      3.100247    177.182278    177.185473   \n",
       "std     63192.508714    728.093452      0.680902    118.119973    118.124011   \n",
       "min         4.000000     26.000000      3.000000      0.000000      0.000000   \n",
       "25%    139916.750000    182.000000      3.000000     81.000000     81.000000   \n",
       "50%    188441.500000    224.000000      3.000000    167.000000    167.000000   \n",
       "75%    214631.750000    245.000000      3.000000    257.000000    257.000000   \n",
       "max    232894.000000   2277.000000     10.000000   1107.000000   1107.000000   \n",
       "\n",
       "       LactationNumber    TotalYield      Duration  AvgYieldPrev7d  \n",
       "count     33182.000000  32683.000000  32683.000000    32159.000000  \n",
       "mean          2.164577     29.561726   1069.272833       29.966063  \n",
       "std           1.349172     11.013999    470.079576        9.202937  \n",
       "min           0.000000      0.000000      0.000000        2.340000  \n",
       "25%           1.000000     21.930000    748.000000       22.885715  \n",
       "50%           2.000000     29.009998   1004.000000       29.534286  \n",
       "75%           3.000000     36.660000   1324.000000       35.997143  \n",
       "max           7.000000     78.070000   4271.000000       60.987141  "
      ]
     },
     "execution_count": 29,
     "metadata": {},
     "output_type": "execute_result"
    }
   ],
   "source": [
    "#Let's get some basic statistics to start with\n",
    "df_ad.info()\n",
    "df_ad.describe()"
   ]
  },
  {
   "cell_type": "code",
   "execution_count": 30,
   "metadata": {},
   "outputs": [],
   "source": [
    "# We see that Date is stored as an object, convert to date(time)\n",
    "df_ad['Date'] = pd.to_datetime(df_ad['Date'])"
   ]
  },
  {
   "cell_type": "markdown",
   "metadata": {},
   "source": [
    "## Time-span: what time period are we talking about here?\n",
    "Let's do a count per date and see how many cows have been milked by the robot over time, in order to get a sense of how good our data is and how large the herd is we're looking at."
   ]
  },
  {
   "cell_type": "code",
   "execution_count": 31,
   "metadata": {},
   "outputs": [
    {
     "name": "stdout",
     "output_type": "stream",
     "text": [
      "First date: 2005-08-09 00:00:00\n",
      "Last date: 2018-04-10 00:00:00\n",
      "Number of rows in dataset: 33182\n"
     ]
    }
   ],
   "source": [
    "# Check first and last date in dataset\n",
    "print(\"First date: \" + str(df_ad['Date'].min()))\n",
    "print(\"Last date: \" + str(df_ad['Date'].max()))\n",
    "print(\"Number of rows in dataset: \" + str(len(df_ad.index)))"
   ]
  },
  {
   "cell_type": "markdown",
   "metadata": {},
   "source": [
    "Seems like quite a long period of data we have in our database, over 33k records ranging from 2005 to 2018. <br>\n",
    "Before moving on to checking out the number of cows and milk over time, let's inspect the quality of our data and see if we have any missing values."
   ]
  },
  {
   "cell_type": "markdown",
   "metadata": {},
   "source": [
    "## Let's check for missing values\n",
    "It is important to see if we're missing values for for instance TotalYield and Duration, since these are some of the most important fields to visualize later on.\n"
   ]
  },
  {
   "cell_type": "code",
   "execution_count": 32,
   "metadata": {},
   "outputs": [
    {
     "data": {
      "text/plain": [
       "OID                         0\n",
       "Date                        0\n",
       "BasicAnimal                 0\n",
       "AnimalGroup                34\n",
       "DIM                         2\n",
       "DSLC                        2\n",
       "LactationNumber             0\n",
       "TotalYield                499\n",
       "IsYieldValid                0\n",
       "Duration                  499\n",
       "AvgYieldPrev7d           1023\n",
       "GCRecord                33182\n",
       "SystemEntryTimeStamp    28207\n",
       "dtype: int64"
      ]
     },
     "execution_count": 32,
     "metadata": {},
     "output_type": "execute_result"
    }
   ],
   "source": [
    "# check for missing values\n",
    "df_ad.isnull().sum()"
   ]
  },
  {
   "cell_type": "markdown",
   "metadata": {},
   "source": [
    "__Note__ there are 34 missings for AnimalGroup, which should be fine. <br>\n",
    "As we saw in the general descriptive statistics, most cows belong to group 3 so there is not much variation there. <br>\n",
    "<br>\n",
    "There are 499 missing rows however for TotalYield and Duration, which might be a bit more troublesome. <br>\n",
    "Let's focus on these rows first and see if they are problematic or not. This allows to determine our course of action on what to do with them."
   ]
  },
  {
   "cell_type": "code",
   "execution_count": 33,
   "metadata": {},
   "outputs": [
    {
     "data": {
      "text/html": [
       "<div>\n",
       "<style scoped>\n",
       "    .dataframe tbody tr th:only-of-type {\n",
       "        vertical-align: middle;\n",
       "    }\n",
       "\n",
       "    .dataframe tbody tr th {\n",
       "        vertical-align: top;\n",
       "    }\n",
       "\n",
       "    .dataframe thead th {\n",
       "        text-align: right;\n",
       "    }\n",
       "</style>\n",
       "<table border=\"1\" class=\"dataframe\">\n",
       "  <thead>\n",
       "    <tr style=\"text-align: right;\">\n",
       "      <th></th>\n",
       "      <th>OID</th>\n",
       "      <th>Date</th>\n",
       "      <th>BasicAnimal</th>\n",
       "      <th>AnimalGroup</th>\n",
       "      <th>DIM</th>\n",
       "      <th>DSLC</th>\n",
       "      <th>LactationNumber</th>\n",
       "      <th>TotalYield</th>\n",
       "      <th>IsYieldValid</th>\n",
       "      <th>Duration</th>\n",
       "      <th>AvgYieldPrev7d</th>\n",
       "      <th>GCRecord</th>\n",
       "      <th>SystemEntryTimeStamp</th>\n",
       "    </tr>\n",
       "  </thead>\n",
       "  <tbody>\n",
       "    <tr>\n",
       "      <th>75</th>\n",
       "      <td>1401</td>\n",
       "      <td>2016-01-18</td>\n",
       "      <td>112</td>\n",
       "      <td>4.0</td>\n",
       "      <td>280.0</td>\n",
       "      <td>280.0</td>\n",
       "      <td>4</td>\n",
       "      <td>NaN</td>\n",
       "      <td>True</td>\n",
       "      <td>NaN</td>\n",
       "      <td>NaN</td>\n",
       "      <td>None</td>\n",
       "      <td>NaT</td>\n",
       "    </tr>\n",
       "    <tr>\n",
       "      <th>83</th>\n",
       "      <td>1542</td>\n",
       "      <td>2012-10-08</td>\n",
       "      <td>178</td>\n",
       "      <td>3.0</td>\n",
       "      <td>0.0</td>\n",
       "      <td>0.0</td>\n",
       "      <td>0</td>\n",
       "      <td>NaN</td>\n",
       "      <td>True</td>\n",
       "      <td>NaN</td>\n",
       "      <td>NaN</td>\n",
       "      <td>None</td>\n",
       "      <td>NaT</td>\n",
       "    </tr>\n",
       "    <tr>\n",
       "      <th>117</th>\n",
       "      <td>2015</td>\n",
       "      <td>2014-12-04</td>\n",
       "      <td>204</td>\n",
       "      <td>9.0</td>\n",
       "      <td>0.0</td>\n",
       "      <td>0.0</td>\n",
       "      <td>0</td>\n",
       "      <td>NaN</td>\n",
       "      <td>True</td>\n",
       "      <td>NaN</td>\n",
       "      <td>NaN</td>\n",
       "      <td>None</td>\n",
       "      <td>NaT</td>\n",
       "    </tr>\n",
       "    <tr>\n",
       "      <th>118</th>\n",
       "      <td>2035</td>\n",
       "      <td>2014-12-26</td>\n",
       "      <td>208</td>\n",
       "      <td>9.0</td>\n",
       "      <td>0.0</td>\n",
       "      <td>0.0</td>\n",
       "      <td>0</td>\n",
       "      <td>NaN</td>\n",
       "      <td>True</td>\n",
       "      <td>NaN</td>\n",
       "      <td>NaN</td>\n",
       "      <td>None</td>\n",
       "      <td>NaT</td>\n",
       "    </tr>\n",
       "    <tr>\n",
       "      <th>122</th>\n",
       "      <td>2132</td>\n",
       "      <td>2016-07-27</td>\n",
       "      <td>211</td>\n",
       "      <td>3.0</td>\n",
       "      <td>324.0</td>\n",
       "      <td>324.0</td>\n",
       "      <td>1</td>\n",
       "      <td>NaN</td>\n",
       "      <td>True</td>\n",
       "      <td>NaN</td>\n",
       "      <td>NaN</td>\n",
       "      <td>None</td>\n",
       "      <td>NaT</td>\n",
       "    </tr>\n",
       "  </tbody>\n",
       "</table>\n",
       "</div>"
      ],
      "text/plain": [
       "      OID       Date  BasicAnimal  AnimalGroup    DIM   DSLC  LactationNumber  \\\n",
       "75   1401 2016-01-18          112          4.0  280.0  280.0                4   \n",
       "83   1542 2012-10-08          178          3.0    0.0    0.0                0   \n",
       "117  2015 2014-12-04          204          9.0    0.0    0.0                0   \n",
       "118  2035 2014-12-26          208          9.0    0.0    0.0                0   \n",
       "122  2132 2016-07-27          211          3.0  324.0  324.0                1   \n",
       "\n",
       "     TotalYield  IsYieldValid  Duration  AvgYieldPrev7d GCRecord  \\\n",
       "75          NaN          True       NaN             NaN     None   \n",
       "83          NaN          True       NaN             NaN     None   \n",
       "117         NaN          True       NaN             NaN     None   \n",
       "118         NaN          True       NaN             NaN     None   \n",
       "122         NaN          True       NaN             NaN     None   \n",
       "\n",
       "    SystemEntryTimeStamp  \n",
       "75                   NaT  \n",
       "83                   NaT  \n",
       "117                  NaT  \n",
       "118                  NaT  \n",
       "122                  NaT  "
      ]
     },
     "execution_count": 33,
     "metadata": {},
     "output_type": "execute_result"
    }
   ],
   "source": [
    "# Select the portion of dataframe with missing values for the column \"TotalYield\"\n",
    "df_missing = df_ad[pd.isnull(df_ad[\"TotalYield\"])]\n",
    "df_missing.head(5)"
   ]
  },
  {
   "cell_type": "markdown",
   "metadata": {},
   "source": [
    "It looks like that for some cows TotalYield is missing because DSLC _or days since last calf_ is 0.<br>\n",
    "However, this does not hold true for all, shown by OID 1401 and 2132 for instance where LactationNumber is 4 and 1 respectively. <br>\n",
    "<br>\n",
    "What to do now? First, let's check out how many rows with missing TotalYield we have per value of LactationNumber (or number of calves a cow has had).<br>\n",
    "<br>\n",
    "It is good to know that a cow cannot start to produce milk without having given birth to at least one calf."
   ]
  },
  {
   "cell_type": "code",
   "execution_count": 34,
   "metadata": {},
   "outputs": [
    {
     "data": {
      "text/plain": [
       "LactationNumber\n",
       "0    305\n",
       "1     79\n",
       "2     46\n",
       "3     29\n",
       "4     22\n",
       "5     13\n",
       "6      4\n",
       "7      1\n",
       "Name: OID, dtype: int64"
      ]
     },
     "execution_count": 34,
     "metadata": {},
     "output_type": "execute_result"
    }
   ],
   "source": [
    "df_missing.groupby('LactationNumber').agg('count').OID"
   ]
  },
  {
   "cell_type": "markdown",
   "metadata": {},
   "source": [
    "As it turns out we see that the majority of rows (305 out of 499) don't have a TotalYield because the cow didn't give birth to a calf yet. We'll filter out these rows from the dataset.\n",
    "<br>\n",
    "This leaves us with 194 rows which we'll filter out as well for the time being. "
   ]
  },
  {
   "cell_type": "code",
   "execution_count": 35,
   "metadata": {},
   "outputs": [],
   "source": [
    "del df_missing\n",
    "df_ad = df_ad.dropna(subset = ['TotalYield'])"
   ]
  },
  {
   "cell_type": "markdown",
   "metadata": {},
   "source": [
    "## Remove Duplicates\n",
    "We can check for any duplicate values in the dataframe using function .duplicated() and remove them accordingly using function  drop_duplicates()."
   ]
  },
  {
   "cell_type": "code",
   "execution_count": 11,
   "metadata": {},
   "outputs": [
    {
     "name": "stdout",
     "output_type": "stream",
     "text": [
      "There are 0 duplicated values.\n"
     ]
    },
    {
     "data": {
      "text/html": [
       "<div>\n",
       "<style scoped>\n",
       "    .dataframe tbody tr th:only-of-type {\n",
       "        vertical-align: middle;\n",
       "    }\n",
       "\n",
       "    .dataframe tbody tr th {\n",
       "        vertical-align: top;\n",
       "    }\n",
       "\n",
       "    .dataframe thead th {\n",
       "        text-align: right;\n",
       "    }\n",
       "</style>\n",
       "<table border=\"1\" class=\"dataframe\">\n",
       "  <thead>\n",
       "    <tr style=\"text-align: right;\">\n",
       "      <th></th>\n",
       "      <th>OID</th>\n",
       "      <th>Date</th>\n",
       "      <th>BasicAnimal</th>\n",
       "      <th>AnimalGroup</th>\n",
       "      <th>DIM</th>\n",
       "      <th>DSLC</th>\n",
       "      <th>LactationNumber</th>\n",
       "      <th>TotalYield</th>\n",
       "      <th>IsYieldValid</th>\n",
       "      <th>Duration</th>\n",
       "      <th>AvgYieldPrev7d</th>\n",
       "      <th>GCRecord</th>\n",
       "      <th>SystemEntryTimeStamp</th>\n",
       "    </tr>\n",
       "  </thead>\n",
       "  <tbody>\n",
       "  </tbody>\n",
       "</table>\n",
       "</div>"
      ],
      "text/plain": [
       "Empty DataFrame\n",
       "Columns: [OID, Date, BasicAnimal, AnimalGroup, DIM, DSLC, LactationNumber, TotalYield, IsYieldValid, Duration, AvgYieldPrev7d, GCRecord, SystemEntryTimeStamp]\n",
       "Index: []"
      ]
     },
     "execution_count": 11,
     "metadata": {},
     "output_type": "execute_result"
    }
   ],
   "source": [
    "print(\"There are {} duplicated values.\".format(df_ad.duplicated().sum()))\n",
    "df_ad[df_ad.duplicated(keep=False)].head(10)"
   ]
  },
  {
   "cell_type": "markdown",
   "metadata": {},
   "source": [
    "0 Duplicates, which is good. No need for further cleanup here."
   ]
  },
  {
   "cell_type": "markdown",
   "metadata": {},
   "source": [
    "## EDA"
   ]
  },
  {
   "cell_type": "markdown",
   "metadata": {},
   "source": [
    "Let's start with checking out the amount of records over time"
   ]
  },
  {
   "cell_type": "code",
   "execution_count": 12,
   "metadata": {},
   "outputs": [],
   "source": [
    "df_ad = df_ad.sort_values('Date')"
   ]
  },
  {
   "cell_type": "markdown",
   "metadata": {},
   "source": [
    "Before plotting the count of records over time, let's increase default size of the plot"
   ]
  },
  {
   "cell_type": "code",
   "execution_count": 13,
   "metadata": {},
   "outputs": [
    {
     "data": {
      "text/plain": [
       "<matplotlib.figure.Figure at 0x1110deb00>"
      ]
     },
     "metadata": {},
     "output_type": "display_data"
    }
   ],
   "source": [
    "fig=plt.figure(figsize=(18, 16), dpi= 80, facecolor='w', edgecolor='k')"
   ]
  },
  {
   "cell_type": "code",
   "execution_count": 14,
   "metadata": {},
   "outputs": [
    {
     "data": {
      "text/plain": [
       "<matplotlib.axes._subplots.AxesSubplot at 0x110e905f8>"
      ]
     },
     "execution_count": 14,
     "metadata": {},
     "output_type": "execute_result"
    },
    {
     "data": {
      "image/png": "[encoded data removed]",
      "text/plain": [
       "<matplotlib.figure.Figure at 0x1109fe780>"
      ]
     },
     "metadata": {},
     "output_type": "display_data"
    }
   ],
   "source": [
    "df_ad['Date'].value_counts().plot()"
   ]
  },
  {
   "cell_type": "code",
   "execution_count": null,
   "metadata": {},
   "outputs": [],
   "source": [
    "#Use this code to pop up the plot and be able to inspect it more dynamically\n",
    "%matplotlib tk\n",
    "df_ad['Date'].value_counts().plot()"
   ]
  },
  {
   "cell_type": "code",
   "execution_count": null,
   "metadata": {},
   "outputs": [],
   "source": [
    "# Run this code in order to toggle back on inline plotting of graphs\n",
    "%matplotlib inline"
   ]
  },
  {
   "cell_type": "markdown",
   "metadata": {},
   "source": [
    "As we can see there are not many datapoints in the beginning, it seems that things are taking of from 2017 onwards <br>\n",
    "Also, the plot is a bit small, let's see if we can make subplots per year and/or month that are a bit more clear."
   ]
  },
  {
   "cell_type": "code",
   "execution_count": 36,
   "metadata": {},
   "outputs": [],
   "source": [
    "# Add Year and Yrmnth\n",
    "df_ad['YearMonth'] = df_ad['Date'].map(lambda x: 100*x.year + x.month)"
   ]
  },
  {
   "cell_type": "code",
   "execution_count": 37,
   "metadata": {},
   "outputs": [],
   "source": [
    "df_ad['Year'] = df_ad['Date'].dt.year\n",
    "df_ad['Month'] = df_ad['Date'].dt.month"
   ]
  },
  {
   "cell_type": "markdown",
   "metadata": {},
   "source": [
    "Check if we can plot trends for number of records, TotalYield and Duration per YearMonth, side by side"
   ]
  },
  {
   "cell_type": "code",
   "execution_count": 38,
   "metadata": {},
   "outputs": [
    {
     "data": {
      "text/html": [
       "<div>\n",
       "<style scoped>\n",
       "    .dataframe tbody tr th:only-of-type {\n",
       "        vertical-align: middle;\n",
       "    }\n",
       "\n",
       "    .dataframe tbody tr th {\n",
       "        vertical-align: top;\n",
       "    }\n",
       "\n",
       "    .dataframe thead th {\n",
       "        text-align: right;\n",
       "    }\n",
       "</style>\n",
       "<table border=\"1\" class=\"dataframe\">\n",
       "  <thead>\n",
       "    <tr style=\"text-align: right;\">\n",
       "      <th></th>\n",
       "      <th>YearMonth</th>\n",
       "      <th>Year</th>\n",
       "      <th>Month</th>\n",
       "      <th>OID</th>\n",
       "      <th>BasicAnimal</th>\n",
       "      <th>TotalYield</th>\n",
       "      <th>Duration</th>\n",
       "    </tr>\n",
       "  </thead>\n",
       "  <tbody>\n",
       "    <tr>\n",
       "      <th>0</th>\n",
       "      <td>200904</td>\n",
       "      <td>2009</td>\n",
       "      <td>4</td>\n",
       "      <td>1</td>\n",
       "      <td>1</td>\n",
       "      <td>0.000000</td>\n",
       "      <td>0.0</td>\n",
       "    </tr>\n",
       "    <tr>\n",
       "      <th>1</th>\n",
       "      <td>200908</td>\n",
       "      <td>2009</td>\n",
       "      <td>8</td>\n",
       "      <td>1</td>\n",
       "      <td>1</td>\n",
       "      <td>9.370001</td>\n",
       "      <td>470.0</td>\n",
       "    </tr>\n",
       "    <tr>\n",
       "      <th>2</th>\n",
       "      <td>200910</td>\n",
       "      <td>2009</td>\n",
       "      <td>10</td>\n",
       "      <td>2</td>\n",
       "      <td>2</td>\n",
       "      <td>17.460001</td>\n",
       "      <td>1268.0</td>\n",
       "    </tr>\n",
       "    <tr>\n",
       "      <th>3</th>\n",
       "      <td>200912</td>\n",
       "      <td>2009</td>\n",
       "      <td>12</td>\n",
       "      <td>1</td>\n",
       "      <td>1</td>\n",
       "      <td>44.780003</td>\n",
       "      <td>1517.0</td>\n",
       "    </tr>\n",
       "    <tr>\n",
       "      <th>4</th>\n",
       "      <td>201002</td>\n",
       "      <td>2010</td>\n",
       "      <td>2</td>\n",
       "      <td>2</td>\n",
       "      <td>2</td>\n",
       "      <td>74.830002</td>\n",
       "      <td>3009.0</td>\n",
       "    </tr>\n",
       "  </tbody>\n",
       "</table>\n",
       "</div>"
      ],
      "text/plain": [
       "   YearMonth  Year  Month  OID  BasicAnimal  TotalYield  Duration\n",
       "0     200904  2009      4    1            1    0.000000       0.0\n",
       "1     200908  2009      8    1            1    9.370001     470.0\n",
       "2     200910  2009     10    2            2   17.460001    1268.0\n",
       "3     200912  2009     12    1            1   44.780003    1517.0\n",
       "4     201002  2010      2    2            2   74.830002    3009.0"
      ]
     },
     "execution_count": 38,
     "metadata": {},
     "output_type": "execute_result"
    }
   ],
   "source": [
    "# Aggregate the df and check for # of records, # of unique cows, and sum of TotalYield and Duration\n",
    "df_agg = df_ad.groupby(['YearMonth']).agg({'Year': max,\n",
    "                                           'Month': max,\n",
    "                                           'OID': \"count\", \n",
    "                                           'BasicAnimal': pd.Series.nunique, \n",
    "                                           'TotalYield': sum, \n",
    "                                           'Duration': sum})\n",
    "df_agg = df_agg.reset_index()\n",
    "df_agg.head(5)"
   ]
  },
  {
   "cell_type": "code",
   "execution_count": 39,
   "metadata": {},
   "outputs": [],
   "source": [
    "# Add some extra columns, such as YieldPerCow and DurationPerTurn\n",
    "# And then filter out all years before 2015\n",
    "df_agg['YieldPerCow'] = df_agg['TotalYield'] / df_agg['BasicAnimal']\n",
    "df_agg['DurationPerTurn'] = df_agg['Duration'] / df_agg['OID']\n",
    "df_agg = df_agg[df_agg['Year']>=2015]"
   ]
  },
  {
   "cell_type": "markdown",
   "metadata": {},
   "source": [
    "Now we have some decent summary stats that we can visualize <br>\n",
    "Start with looking at the number of cows milked over the years"
   ]
  },
  {
   "cell_type": "code",
   "execution_count": 89,
   "metadata": {},
   "outputs": [
    {
     "data": {
      "text/plain": [
       "<seaborn.axisgrid.FacetGrid at 0x1a2e64a9b0>"
      ]
     },
     "execution_count": 89,
     "metadata": {},
     "output_type": "execute_result"
    },
    {
     "data": {
      "image/png": "[encoded data removed]",
      "text/plain": [
       "<matplotlib.figure.Figure at 0x1a2ef59048>"
      ]
     },
     "metadata": {},
     "output_type": "display_data"
    }
   ],
   "source": [
    "g = sns.catplot(\"Month\",\"BasicAnimal\", \n",
    "            data=df_agg, \n",
    "            kind=\"bar\",\n",
    "            row='Year',\n",
    "            palette=\"Blues\",\n",
    "            height=4,\n",
    "            aspect=2\n",
    "           )\n",
    "\n",
    "g.set_ylabels('Number of Cows')\n",
    "\n",
    "# Nog aanpassen naar multiple subplots, 4 in een quadrant"
   ]
  },
  {
   "cell_type": "code",
   "execution_count": null,
   "metadata": {},
   "outputs": [],
   "source": []
  },
  {
   "cell_type": "code",
   "execution_count": null,
   "metadata": {},
   "outputs": [],
   "source": []
  },
  {
   "cell_type": "code",
   "execution_count": null,
   "metadata": {},
   "outputs": [],
   "source": [
    "# Note, histogram van Gemiddelde yield per koe maken"
   ]
  }
 ],
 "metadata": {
  "kernelspec": {
   "display_name": "Python 3",
   "language": "python",
   "name": "python3"
  },
  "language_info": {
   "codemirror_mode": {
    "name": "ipython",
    "version": 3
   },
   "file_extension": ".py",
   "mimetype": "text/x-python",
   "name": "python",
   "nbconvert_exporter": "python",
   "pygments_lexer": "ipython3",
   "version": "3.6.4"
  }
 },
 "nbformat": 4,
 "nbformat_minor": 2
}
